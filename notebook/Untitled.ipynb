{
 "cells": [
  {
   "cell_type": "code",
   "execution_count": 5,
   "id": "eadcb88e",
   "metadata": {},
   "outputs": [],
   "source": [
    "from selenium import webdriver\n",
    "import os\n",
    "import pandas as pd"
   ]
  },
  {
   "cell_type": "code",
   "execution_count": 7,
   "metadata": {},
   "outputs": [],
   "source": [
    "data_path = os.path.join(\"data\",\"Assignment.xlsx\")\n",
    "data = pd.read_excel(data_path)"
   ]
  },
  {
   "cell_type": "code",
   "execution_count": 10,
   "metadata": {},
   "outputs": [],
   "source": [
    "df = pd.DataFrame(data)"
   ]
  },
  {
   "cell_type": "code",
   "execution_count": 17,
   "metadata": {},
   "outputs": [
    {
     "data": {
      "text/html": [
       "<div>\n",
       "<style scoped>\n",
       "    .dataframe tbody tr th:only-of-type {\n",
       "        vertical-align: middle;\n",
       "    }\n",
       "\n",
       "    .dataframe tbody tr th {\n",
       "        vertical-align: top;\n",
       "    }\n",
       "\n",
       "    .dataframe thead th {\n",
       "        text-align: right;\n",
       "    }\n",
       "</style>\n",
       "<table border=\"1\" class=\"dataframe\">\n",
       "  <thead>\n",
       "    <tr style=\"text-align: right;\">\n",
       "      <th></th>\n",
       "      <th>Property</th>\n",
       "      <th>Address</th>\n",
       "    </tr>\n",
       "  </thead>\n",
       "  <tbody>\n",
       "    <tr>\n",
       "      <th>0</th>\n",
       "      <td>Bestech Park View Spa</td>\n",
       "      <td>Sector 47 Gurgaon</td>\n",
       "    </tr>\n",
       "    <tr>\n",
       "      <th>1</th>\n",
       "      <td>Puri Diplomatic Greens Phase II</td>\n",
       "      <td>Sector 111 Gurgaon</td>\n",
       "    </tr>\n",
       "    <tr>\n",
       "      <th>2</th>\n",
       "      <td>Puri Diplomatic Greens Phase I</td>\n",
       "      <td>Sector 111 Gurgaon</td>\n",
       "    </tr>\n",
       "    <tr>\n",
       "      <th>3</th>\n",
       "      <td>Bestech Park View City 2</td>\n",
       "      <td>Sector 49 Gurgaon</td>\n",
       "    </tr>\n",
       "    <tr>\n",
       "      <th>4</th>\n",
       "      <td>DLF New Town Heights III</td>\n",
       "      <td>Sector 91 Gurgaon</td>\n",
       "    </tr>\n",
       "  </tbody>\n",
       "</table>\n",
       "</div>"
      ],
      "text/plain": [
       "                          Property             Address\n",
       "0            Bestech Park View Spa   Sector 47 Gurgaon\n",
       "1  Puri Diplomatic Greens Phase II  Sector 111 Gurgaon\n",
       "2   Puri Diplomatic Greens Phase I  Sector 111 Gurgaon\n",
       "3         Bestech Park View City 2   Sector 49 Gurgaon\n",
       "4         DLF New Town Heights III   Sector 91 Gurgaon"
      ]
     },
     "execution_count": 17,
     "metadata": {},
     "output_type": "execute_result"
    }
   ],
   "source": [
    "df.head()"
   ]
  },
  {
   "cell_type": "code",
   "execution_count": 19,
   "metadata": {},
   "outputs": [
    {
     "data": {
      "text/plain": [
       "'Bestech Park View Spa'"
      ]
     },
     "execution_count": 19,
     "metadata": {},
     "output_type": "execute_result"
    }
   ],
   "source": [
    "df.iloc[0][0]"
   ]
  },
  {
   "cell_type": "code",
   "execution_count": 25,
   "metadata": {},
   "outputs": [
    {
     "name": "stdout",
     "output_type": "stream",
     "text": [
      "Bestech Park View Spa\n",
      "Puri Diplomatic Greens Phase II\n",
      "Puri Diplomatic Greens Phase I\n",
      "Bestech Park View City 2\n",
      "DLF New Town Heights III\n",
      "DLF New Town Heights I\n",
      "DLF Select Homes\n",
      "Conscient Heritage One\n",
      "Central Park II-Belgravia Resort Residences\n",
      "Emaar Gurgaon Greens\n",
      "DLF Beverly Park II\n",
      "DLF Regent House\n",
      "Emaar The Meadows\n",
      "Central park I\n",
      "Emaar The Palm Drive-Palm Studios\n",
      "Emaar The Vilas\n",
      "Emaar The Palm Springs\n",
      "Central Park II-The Room\n",
      "Central Park II-Bellevue\n",
      "Mahindra Aura\n",
      "Indiabulls Enigma\n",
      "Indiabulls Centrum Park\n",
      "Emaar The Enclave\n",
      "Ireo The Grand Arch\n",
      "Huda Staff Colony\n",
      "Huda Sarswati Vihar\n",
      "Huda Smayan Society\n",
      "Technical Paradise\n",
      "Mi Casa Apartments\n",
      "Shree Ganesh Apartments CGHS\n",
      "The Surya Apartments CGHS\n",
      "The Adarsh Apartments\n",
      "Uphaar Yash Apartments\n",
      "Anand Niketan CGHS\n",
      "Samanvay Apartments\n",
      "Housing Board Colony Sector 9\n",
      "Housing Board Colony Sector 51\n",
      "DLF Manhattan Apartments\n",
      "The IFCI Staff CHS\n",
      "Crestwood Apartment\n",
      "Central Park Belgravia Resort Residency\n",
      "DLF The Ultima\n",
      "Ashok Vihar Sector 3\n",
      "Orange Drive\n",
      "DLF Mulberry Avenue\n",
      "RWA Surya Vihar Central Gurgaon\n",
      "Vijay Vihar Apartments Gurgaon\n",
      "Anamika Enclave\n",
      "Jawahar Nagar CHS\n",
      "Cosmos Executive\n"
     ]
    }
   ],
   "source": [
    "for index,row in df.iterrows():\n",
    "    print(row[0])"
   ]
  },
  {
   "cell_type": "code",
   "execution_count": null,
   "metadata": {},
   "outputs": [],
   "source": []
  }
 ],
 "metadata": {
  "kernelspec": {
   "display_name": "Python 3 (ipykernel)",
   "language": "python",
   "name": "python3"
  },
  "language_info": {
   "codemirror_mode": {
    "name": "ipython",
    "version": 3
   },
   "file_extension": ".py",
   "mimetype": "text/x-python",
   "name": "python",
   "nbconvert_exporter": "python",
   "pygments_lexer": "ipython3",
   "version": "3.8.18"
  }
 },
 "nbformat": 4,
 "nbformat_minor": 5
}
